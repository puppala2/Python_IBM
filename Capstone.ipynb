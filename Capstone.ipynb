{
 "cells": [
  {
   "cell_type": "markdown",
   "metadata": {},
   "source": [
    "# Seattle Car Accident Severity Prediction Model\n",
    "\n",
    "## Applied Data Science Capstone Project"
   ]
  },
  {
   "cell_type": "markdown",
   "metadata": {},
   "source": [
    "### ----------------------------------------------"
   ]
  },
  {
   "cell_type": "markdown",
   "metadata": {},
   "source": [
    "#### Business Understanding"
   ]
  },
  {
   "cell_type": "markdown",
   "metadata": {},
   "source": [
    "The city of Seattle emergency management system (911) would like to deploy a new model to predict the severity of a newly reported accident based on the information received. The city currently has the 911 service which generates the data (receives the call to address an accident) and dispatches the police and ambulance to the accident site. The city would like to know the variables that influence the accidents, and based on the information the city wants to allocate the police resources, and ambulances at the optimal location. \n",
    "\n",
    "The other stake holders include, the trauma centers in the city, and the traffic administration. The trauma centers will be alerted with the accidents based on the predicted accident severity so the trauma centers will be ready to take in the patients without losing the precious time. The model will alert the traffic administration and notify the routes to and from the accident location to the surrounding trauma centers. Based on the alerts, the traffic administration will deploy personal and strategies so the police personal as well as the ambulances can escape any traffic congestion. \n",
    "\n",
    "The model will be part of a Geospatial application which will be deployed into the first responders' navigation system. \n",
    "\n",
    "Finally, the model will be used to run an awareness campaign targeting the citizens of the city so they can provide all the required information while reporting an accident to the emergency management system. "
   ]
  }
 ],
 "metadata": {
  "kernelspec": {
   "display_name": "Python 3",
   "language": "python",
   "name": "python3"
  },
  "language_info": {
   "codemirror_mode": {
    "name": "ipython",
    "version": 3
   },
   "file_extension": ".py",
   "mimetype": "text/x-python",
   "name": "python",
   "nbconvert_exporter": "python",
   "pygments_lexer": "ipython3",
   "version": "3.8.3"
  }
 },
 "nbformat": 4,
 "nbformat_minor": 4
}
