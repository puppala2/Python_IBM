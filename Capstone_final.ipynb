{
 "cells": [
  {
   "cell_type": "markdown",
   "metadata": {},
   "source": [
    "# Seattle Car Accident Severity Prediction Model\n",
    "\n",
    "## Applied Data Science Capstone Project"
   ]
  },
  {
   "cell_type": "markdown",
   "metadata": {},
   "source": [
    "### ----------------------------------------------"
   ]
  },
  {
   "cell_type": "markdown",
   "metadata": {},
   "source": [
    "### 1. Introduction\n",
    "\n",
    "#### 1.1 Background\n",
    "\n",
    "Seattle is a major city in the North West of the USA with headquarters of some major companies of the world like Microsoft, Boeing, Amazon, Costco, etc. The city also serves as a transit hub for people travelers and tourists moving to and from Canada. The city boasts a high concentration of technology workers, with median income more than most of the metro cities in the US. The city's real estate and housing stats are very high as well. With a population of three quarters of a million and the area of 217 Sq km, a higher standard of services is expected by the patrons of the city. The city does its best to improve services, especially by employing AI/ML based solutions. One such opportunity is the emergency management system to address traffic accidents. This project throws some light on to solving one problem, namely, trying to predict the severity of the accident as soon as an accident is reported to the city's emergency management system.\n",
    "\n",
    "#### 1.2 Problem\n",
    "\n",
    "The city of Seattle emergency management system (911) would like to deploy a new model to predict the severity of a newly reported accident based on the information received. The city currently has the 911 service which generates the data by receiving a 911 call, which results in dispatching the police and ambulance to the accident site. The city would like have a predictive model to predict the severity of the accident. Based on the severity of the accident, the city administration wants manage its resources like emergency personnel, the traffic management and the trauma centers in the city.\n",
    "\n",
    "#### 1.3 Interest\n",
    "\n",
    "Obviously, by saving lives and streamlining the city administration the city will not only save money on its operations, but with improved services, the rating of the city will improve, thereby attracting more businesses and families into the city.\n"
   ]
  },
  {
   "cell_type": "markdown",
   "metadata": {},
   "source": [
    "### 2. Data Acquisition and Cleaning\n",
    "\n",
    "#### 2.1 Data Source\n",
    "\n",
    "Seattle Department of Transportation (SDOT) compiles all collisions provided by the Seattle Police Department and recorded by traffic records. This compiled data is reported on their website as a csv file for the general public to consume. This data is refreshed every week with the latest records. The dataset include data from 2004.\n",
    "\n",
    "#### 2.2 Data Cleaning\n",
    "\n",
    "Even though SDOT reported data has all types of SEVERITY codes (0,1,2,2b,3), the sample dataset provided on the course website has only two codes, 1(property damage) and 2(injury) only. Variables like SERIOUSINJURIES and FATALITIES that are reported in the metadata file are not reported in the actual data. Some other observation:\n",
    "\n",
    "    1. EXCEPTRSNCODE is a matadata\n",
    "    2. SEVERITYCODE is a duplicate column\n",
    "    3. There are two collision codes, 1) State Code and 2) SDOT code. One is redundant\n",
    "    4. Descriptions attributes are redundant. Metadata has detailed information.\n",
    "    5. Location variable is redundant in light of X and Y.\n",
    "    6. OBJECTID, INCKEY, COLDETKEY, and REPORTNO are index columns and cannot be used as attributes.\n",
    "The shape of the dataset: 194673, 38, whereas the first row is the column names.\n",
    "Severity Codes in the dataset:\n",
    "\n",
    "    1. 1-prop damage\n",
    "    2. 2-injury\n",
    "Due to the presence of null values and the redundant variables as mentioned above, the data has to be preprocessed before going further.\n"
   ]
  },
  {
   "cell_type": "code",
   "execution_count": 145,
   "metadata": {},
   "outputs": [
    {
     "name": "stderr",
     "output_type": "stream",
     "text": [
      "C:\\Users\\a_pup\\anaconda3\\lib\\site-packages\\IPython\\core\\interactiveshell.py:3071: DtypeWarning: Columns (33) have mixed types.Specify dtype option on import or set low_memory=False.\n",
      "  has_raised = await self.run_ast_nodes(code_ast.body, cell_name,\n"
     ]
    },
    {
     "data": {
      "text/html": [
       "<div>\n",
       "<style scoped>\n",
       "    .dataframe tbody tr th:only-of-type {\n",
       "        vertical-align: middle;\n",
       "    }\n",
       "\n",
       "    .dataframe tbody tr th {\n",
       "        vertical-align: top;\n",
       "    }\n",
       "\n",
       "    .dataframe thead th {\n",
       "        text-align: right;\n",
       "    }\n",
       "</style>\n",
       "<table border=\"1\" class=\"dataframe\">\n",
       "  <thead>\n",
       "    <tr style=\"text-align: right;\">\n",
       "      <th></th>\n",
       "      <th>SEVERITYCODE</th>\n",
       "      <th>X</th>\n",
       "      <th>Y</th>\n",
       "      <th>OBJECTID</th>\n",
       "      <th>INCKEY</th>\n",
       "      <th>COLDETKEY</th>\n",
       "      <th>REPORTNO</th>\n",
       "      <th>STATUS</th>\n",
       "      <th>ADDRTYPE</th>\n",
       "      <th>INTKEY</th>\n",
       "      <th>...</th>\n",
       "      <th>ROADCOND</th>\n",
       "      <th>LIGHTCOND</th>\n",
       "      <th>PEDROWNOTGRNT</th>\n",
       "      <th>SDOTCOLNUM</th>\n",
       "      <th>SPEEDING</th>\n",
       "      <th>ST_COLCODE</th>\n",
       "      <th>ST_COLDESC</th>\n",
       "      <th>SEGLANEKEY</th>\n",
       "      <th>CROSSWALKKEY</th>\n",
       "      <th>HITPARKEDCAR</th>\n",
       "    </tr>\n",
       "  </thead>\n",
       "  <tbody>\n",
       "    <tr>\n",
       "      <th>0</th>\n",
       "      <td>2</td>\n",
       "      <td>-122.323148</td>\n",
       "      <td>47.703140</td>\n",
       "      <td>1</td>\n",
       "      <td>1307</td>\n",
       "      <td>1307</td>\n",
       "      <td>3502005</td>\n",
       "      <td>Matched</td>\n",
       "      <td>Intersection</td>\n",
       "      <td>37475.0</td>\n",
       "      <td>...</td>\n",
       "      <td>Wet</td>\n",
       "      <td>Daylight</td>\n",
       "      <td>NaN</td>\n",
       "      <td>NaN</td>\n",
       "      <td>NaN</td>\n",
       "      <td>10</td>\n",
       "      <td>Entering at angle</td>\n",
       "      <td>0</td>\n",
       "      <td>0</td>\n",
       "      <td>N</td>\n",
       "    </tr>\n",
       "    <tr>\n",
       "      <th>1</th>\n",
       "      <td>1</td>\n",
       "      <td>-122.347294</td>\n",
       "      <td>47.647172</td>\n",
       "      <td>2</td>\n",
       "      <td>52200</td>\n",
       "      <td>52200</td>\n",
       "      <td>2607959</td>\n",
       "      <td>Matched</td>\n",
       "      <td>Block</td>\n",
       "      <td>NaN</td>\n",
       "      <td>...</td>\n",
       "      <td>Wet</td>\n",
       "      <td>Dark - Street Lights On</td>\n",
       "      <td>NaN</td>\n",
       "      <td>6354039.0</td>\n",
       "      <td>NaN</td>\n",
       "      <td>11</td>\n",
       "      <td>From same direction - both going straight - bo...</td>\n",
       "      <td>0</td>\n",
       "      <td>0</td>\n",
       "      <td>N</td>\n",
       "    </tr>\n",
       "    <tr>\n",
       "      <th>2</th>\n",
       "      <td>1</td>\n",
       "      <td>-122.334540</td>\n",
       "      <td>47.607871</td>\n",
       "      <td>3</td>\n",
       "      <td>26700</td>\n",
       "      <td>26700</td>\n",
       "      <td>1482393</td>\n",
       "      <td>Matched</td>\n",
       "      <td>Block</td>\n",
       "      <td>NaN</td>\n",
       "      <td>...</td>\n",
       "      <td>Dry</td>\n",
       "      <td>Daylight</td>\n",
       "      <td>NaN</td>\n",
       "      <td>4323031.0</td>\n",
       "      <td>NaN</td>\n",
       "      <td>32</td>\n",
       "      <td>One parked--one moving</td>\n",
       "      <td>0</td>\n",
       "      <td>0</td>\n",
       "      <td>N</td>\n",
       "    </tr>\n",
       "    <tr>\n",
       "      <th>3</th>\n",
       "      <td>1</td>\n",
       "      <td>-122.334803</td>\n",
       "      <td>47.604803</td>\n",
       "      <td>4</td>\n",
       "      <td>1144</td>\n",
       "      <td>1144</td>\n",
       "      <td>3503937</td>\n",
       "      <td>Matched</td>\n",
       "      <td>Block</td>\n",
       "      <td>NaN</td>\n",
       "      <td>...</td>\n",
       "      <td>Dry</td>\n",
       "      <td>Daylight</td>\n",
       "      <td>NaN</td>\n",
       "      <td>NaN</td>\n",
       "      <td>NaN</td>\n",
       "      <td>23</td>\n",
       "      <td>From same direction - all others</td>\n",
       "      <td>0</td>\n",
       "      <td>0</td>\n",
       "      <td>N</td>\n",
       "    </tr>\n",
       "    <tr>\n",
       "      <th>4</th>\n",
       "      <td>2</td>\n",
       "      <td>-122.306426</td>\n",
       "      <td>47.545739</td>\n",
       "      <td>5</td>\n",
       "      <td>17700</td>\n",
       "      <td>17700</td>\n",
       "      <td>1807429</td>\n",
       "      <td>Matched</td>\n",
       "      <td>Intersection</td>\n",
       "      <td>34387.0</td>\n",
       "      <td>...</td>\n",
       "      <td>Wet</td>\n",
       "      <td>Daylight</td>\n",
       "      <td>NaN</td>\n",
       "      <td>4028032.0</td>\n",
       "      <td>NaN</td>\n",
       "      <td>10</td>\n",
       "      <td>Entering at angle</td>\n",
       "      <td>0</td>\n",
       "      <td>0</td>\n",
       "      <td>N</td>\n",
       "    </tr>\n",
       "  </tbody>\n",
       "</table>\n",
       "<p>5 rows × 38 columns</p>\n",
       "</div>"
      ],
      "text/plain": [
       "   SEVERITYCODE           X          Y  OBJECTID  INCKEY  COLDETKEY REPORTNO  \\\n",
       "0             2 -122.323148  47.703140         1    1307       1307  3502005   \n",
       "1             1 -122.347294  47.647172         2   52200      52200  2607959   \n",
       "2             1 -122.334540  47.607871         3   26700      26700  1482393   \n",
       "3             1 -122.334803  47.604803         4    1144       1144  3503937   \n",
       "4             2 -122.306426  47.545739         5   17700      17700  1807429   \n",
       "\n",
       "    STATUS      ADDRTYPE   INTKEY  ... ROADCOND                LIGHTCOND  \\\n",
       "0  Matched  Intersection  37475.0  ...      Wet                 Daylight   \n",
       "1  Matched         Block      NaN  ...      Wet  Dark - Street Lights On   \n",
       "2  Matched         Block      NaN  ...      Dry                 Daylight   \n",
       "3  Matched         Block      NaN  ...      Dry                 Daylight   \n",
       "4  Matched  Intersection  34387.0  ...      Wet                 Daylight   \n",
       "\n",
       "  PEDROWNOTGRNT  SDOTCOLNUM SPEEDING ST_COLCODE  \\\n",
       "0           NaN         NaN      NaN         10   \n",
       "1           NaN   6354039.0      NaN         11   \n",
       "2           NaN   4323031.0      NaN         32   \n",
       "3           NaN         NaN      NaN         23   \n",
       "4           NaN   4028032.0      NaN         10   \n",
       "\n",
       "                                          ST_COLDESC  SEGLANEKEY  \\\n",
       "0                                  Entering at angle           0   \n",
       "1  From same direction - both going straight - bo...           0   \n",
       "2                             One parked--one moving           0   \n",
       "3                   From same direction - all others           0   \n",
       "4                                  Entering at angle           0   \n",
       "\n",
       "   CROSSWALKKEY  HITPARKEDCAR  \n",
       "0             0             N  \n",
       "1             0             N  \n",
       "2             0             N  \n",
       "3             0             N  \n",
       "4             0             N  \n",
       "\n",
       "[5 rows x 38 columns]"
      ]
     },
     "execution_count": 145,
     "metadata": {},
     "output_type": "execute_result"
    }
   ],
   "source": [
    "import pandas as pd\n",
    "import matplotlib.pylab as plt\n",
    "\n",
    "fn = \"https://s3.us.cloud-object-storage.appdomain.cloud/cf-courses-data/CognitiveClass/DP0701EN/version-2/Data-Collisions.csv\"\n",
    "headers = [\"SEVERITYCODE\", \"X\", \"Y\", \"OBJECTID\", \"INCKEY\", \"COLDETKEY\", \"REPORTNO\", \"STATUS\", \"ADDRTYPE\", \"INTKEY\", \n",
    "           \"LOCATION\", \"EXCEPTRSNCODE\", \"EXCEPTRSNDESC\", \"SEVERITYCODE0\", \"SEVERITYDESC\", \"COLLISIONTYPE\", \"PERSONCOUNT\", \n",
    "           \"PEDCOUNT\", \"PEDCYLCOUNT\", \"VEHCOUNT\", \"INCDATE\", \"INCDTTM\", \"JUNCTIONTYPE\", \"SDOT_COLCODE\", \"SDOT_COLDESC\", \n",
    "           \"INATTENTIONIND\", \"UNDERINFL\", \"WEATHER\", \"ROADCOND\", \"LIGHTCOND\", \"PEDROWNOTGRNT\", \"SDOTCOLNUM\", \"SPEEDING\", \n",
    "           \"ST_COLCODE\", \"ST_COLDESC\", \"SEGLANEKEY\", \"CROSSWALKKEY\", \"HITPARKEDCAR\"]\n",
    "df = pd.read_csv(fn, skiprows = 1,header = None, names=headers)\n",
    "df.head()"
   ]
  },
  {
   "cell_type": "code",
   "execution_count": 146,
   "metadata": {},
   "outputs": [
    {
     "data": {
      "text/plain": [
       "(194673, 38)"
      ]
     },
     "execution_count": 146,
     "metadata": {},
     "output_type": "execute_result"
    }
   ],
   "source": [
    "df_standby = df\n",
    "df.shape"
   ]
  },
  {
   "cell_type": "code",
   "execution_count": 147,
   "metadata": {},
   "outputs": [
    {
     "data": {
      "text/plain": [
       "1    136485\n",
       "2     58188\n",
       "Name: SEVERITYCODE, dtype: int64"
      ]
     },
     "execution_count": 147,
     "metadata": {},
     "output_type": "execute_result"
    }
   ],
   "source": [
    "df['SEVERITYCODE'].value_counts()"
   ]
  },
  {
   "cell_type": "code",
   "execution_count": 148,
   "metadata": {},
   "outputs": [],
   "source": [
    "df['SEVERITYCODE'].replace({1:0, 2:1}, inplace=True)"
   ]
  },
  {
   "cell_type": "code",
   "execution_count": 149,
   "metadata": {},
   "outputs": [
    {
     "data": {
      "text/plain": [
       "0    136485\n",
       "1     58188\n",
       "Name: SEVERITYCODE, dtype: int64"
      ]
     },
     "execution_count": 149,
     "metadata": {},
     "output_type": "execute_result"
    }
   ],
   "source": [
    "df['SEVERITYCODE'].value_counts()"
   ]
  },
  {
   "cell_type": "code",
   "execution_count": 150,
   "metadata": {},
   "outputs": [],
   "source": [
    "df.drop(['OBJECTID', 'INCKEY', 'INTKEY', 'COLDETKEY', 'REPORTNO','LOCATION', 'EXCEPTRSNDESC', 'SEVERITYDESC', 'INCDATE',\n",
    "         'SDOT_COLDESC', 'SDOTCOLNUM', 'ST_COLDESC', 'ST_COLCODE'], axis=1, inplace=True)"
   ]
  },
  {
   "cell_type": "code",
   "execution_count": 151,
   "metadata": {},
   "outputs": [
    {
     "data": {
      "text/plain": [
       "(194673, 25)"
      ]
     },
     "execution_count": 151,
     "metadata": {},
     "output_type": "execute_result"
    }
   ],
   "source": [
    "df.shape"
   ]
  },
  {
   "cell_type": "code",
   "execution_count": 152,
   "metadata": {},
   "outputs": [
    {
     "data": {
      "text/html": [
       "<div>\n",
       "<style scoped>\n",
       "    .dataframe tbody tr th:only-of-type {\n",
       "        vertical-align: middle;\n",
       "    }\n",
       "\n",
       "    .dataframe tbody tr th {\n",
       "        vertical-align: top;\n",
       "    }\n",
       "\n",
       "    .dataframe thead th {\n",
       "        text-align: right;\n",
       "    }\n",
       "</style>\n",
       "<table border=\"1\" class=\"dataframe\">\n",
       "  <thead>\n",
       "    <tr style=\"text-align: right;\">\n",
       "      <th></th>\n",
       "      <th>SEVERITYCODE</th>\n",
       "      <th>X</th>\n",
       "      <th>Y</th>\n",
       "      <th>STATUS</th>\n",
       "      <th>ADDRTYPE</th>\n",
       "      <th>EXCEPTRSNCODE</th>\n",
       "      <th>SEVERITYCODE0</th>\n",
       "      <th>COLLISIONTYPE</th>\n",
       "      <th>PERSONCOUNT</th>\n",
       "      <th>PEDCOUNT</th>\n",
       "      <th>...</th>\n",
       "      <th>INATTENTIONIND</th>\n",
       "      <th>UNDERINFL</th>\n",
       "      <th>WEATHER</th>\n",
       "      <th>ROADCOND</th>\n",
       "      <th>LIGHTCOND</th>\n",
       "      <th>PEDROWNOTGRNT</th>\n",
       "      <th>SPEEDING</th>\n",
       "      <th>SEGLANEKEY</th>\n",
       "      <th>CROSSWALKKEY</th>\n",
       "      <th>HITPARKEDCAR</th>\n",
       "    </tr>\n",
       "  </thead>\n",
       "  <tbody>\n",
       "    <tr>\n",
       "      <th>0</th>\n",
       "      <td>1</td>\n",
       "      <td>-122.323148</td>\n",
       "      <td>47.703140</td>\n",
       "      <td>Matched</td>\n",
       "      <td>Intersection</td>\n",
       "      <td></td>\n",
       "      <td>2</td>\n",
       "      <td>Angles</td>\n",
       "      <td>2</td>\n",
       "      <td>0</td>\n",
       "      <td>...</td>\n",
       "      <td>NaN</td>\n",
       "      <td>N</td>\n",
       "      <td>Overcast</td>\n",
       "      <td>Wet</td>\n",
       "      <td>Daylight</td>\n",
       "      <td>NaN</td>\n",
       "      <td>NaN</td>\n",
       "      <td>0</td>\n",
       "      <td>0</td>\n",
       "      <td>N</td>\n",
       "    </tr>\n",
       "    <tr>\n",
       "      <th>1</th>\n",
       "      <td>0</td>\n",
       "      <td>-122.347294</td>\n",
       "      <td>47.647172</td>\n",
       "      <td>Matched</td>\n",
       "      <td>Block</td>\n",
       "      <td>NaN</td>\n",
       "      <td>1</td>\n",
       "      <td>Sideswipe</td>\n",
       "      <td>2</td>\n",
       "      <td>0</td>\n",
       "      <td>...</td>\n",
       "      <td>NaN</td>\n",
       "      <td>0</td>\n",
       "      <td>Raining</td>\n",
       "      <td>Wet</td>\n",
       "      <td>Dark - Street Lights On</td>\n",
       "      <td>NaN</td>\n",
       "      <td>NaN</td>\n",
       "      <td>0</td>\n",
       "      <td>0</td>\n",
       "      <td>N</td>\n",
       "    </tr>\n",
       "    <tr>\n",
       "      <th>2</th>\n",
       "      <td>0</td>\n",
       "      <td>-122.334540</td>\n",
       "      <td>47.607871</td>\n",
       "      <td>Matched</td>\n",
       "      <td>Block</td>\n",
       "      <td>NaN</td>\n",
       "      <td>1</td>\n",
       "      <td>Parked Car</td>\n",
       "      <td>4</td>\n",
       "      <td>0</td>\n",
       "      <td>...</td>\n",
       "      <td>NaN</td>\n",
       "      <td>0</td>\n",
       "      <td>Overcast</td>\n",
       "      <td>Dry</td>\n",
       "      <td>Daylight</td>\n",
       "      <td>NaN</td>\n",
       "      <td>NaN</td>\n",
       "      <td>0</td>\n",
       "      <td>0</td>\n",
       "      <td>N</td>\n",
       "    </tr>\n",
       "    <tr>\n",
       "      <th>3</th>\n",
       "      <td>0</td>\n",
       "      <td>-122.334803</td>\n",
       "      <td>47.604803</td>\n",
       "      <td>Matched</td>\n",
       "      <td>Block</td>\n",
       "      <td></td>\n",
       "      <td>1</td>\n",
       "      <td>Other</td>\n",
       "      <td>3</td>\n",
       "      <td>0</td>\n",
       "      <td>...</td>\n",
       "      <td>NaN</td>\n",
       "      <td>N</td>\n",
       "      <td>Clear</td>\n",
       "      <td>Dry</td>\n",
       "      <td>Daylight</td>\n",
       "      <td>NaN</td>\n",
       "      <td>NaN</td>\n",
       "      <td>0</td>\n",
       "      <td>0</td>\n",
       "      <td>N</td>\n",
       "    </tr>\n",
       "    <tr>\n",
       "      <th>4</th>\n",
       "      <td>1</td>\n",
       "      <td>-122.306426</td>\n",
       "      <td>47.545739</td>\n",
       "      <td>Matched</td>\n",
       "      <td>Intersection</td>\n",
       "      <td>NaN</td>\n",
       "      <td>2</td>\n",
       "      <td>Angles</td>\n",
       "      <td>2</td>\n",
       "      <td>0</td>\n",
       "      <td>...</td>\n",
       "      <td>NaN</td>\n",
       "      <td>0</td>\n",
       "      <td>Raining</td>\n",
       "      <td>Wet</td>\n",
       "      <td>Daylight</td>\n",
       "      <td>NaN</td>\n",
       "      <td>NaN</td>\n",
       "      <td>0</td>\n",
       "      <td>0</td>\n",
       "      <td>N</td>\n",
       "    </tr>\n",
       "  </tbody>\n",
       "</table>\n",
       "<p>5 rows × 25 columns</p>\n",
       "</div>"
      ],
      "text/plain": [
       "   SEVERITYCODE           X          Y   STATUS      ADDRTYPE EXCEPTRSNCODE  \\\n",
       "0             1 -122.323148  47.703140  Matched  Intersection                 \n",
       "1             0 -122.347294  47.647172  Matched         Block           NaN   \n",
       "2             0 -122.334540  47.607871  Matched         Block           NaN   \n",
       "3             0 -122.334803  47.604803  Matched         Block                 \n",
       "4             1 -122.306426  47.545739  Matched  Intersection           NaN   \n",
       "\n",
       "   SEVERITYCODE0 COLLISIONTYPE  PERSONCOUNT  PEDCOUNT  ...  INATTENTIONIND  \\\n",
       "0              2        Angles            2         0  ...             NaN   \n",
       "1              1     Sideswipe            2         0  ...             NaN   \n",
       "2              1    Parked Car            4         0  ...             NaN   \n",
       "3              1         Other            3         0  ...             NaN   \n",
       "4              2        Angles            2         0  ...             NaN   \n",
       "\n",
       "   UNDERINFL   WEATHER ROADCOND                LIGHTCOND PEDROWNOTGRNT  \\\n",
       "0          N  Overcast      Wet                 Daylight           NaN   \n",
       "1          0   Raining      Wet  Dark - Street Lights On           NaN   \n",
       "2          0  Overcast      Dry                 Daylight           NaN   \n",
       "3          N     Clear      Dry                 Daylight           NaN   \n",
       "4          0   Raining      Wet                 Daylight           NaN   \n",
       "\n",
       "  SPEEDING SEGLANEKEY CROSSWALKKEY HITPARKEDCAR  \n",
       "0      NaN          0            0            N  \n",
       "1      NaN          0            0            N  \n",
       "2      NaN          0            0            N  \n",
       "3      NaN          0            0            N  \n",
       "4      NaN          0            0            N  \n",
       "\n",
       "[5 rows x 25 columns]"
      ]
     },
     "execution_count": 152,
     "metadata": {},
     "output_type": "execute_result"
    }
   ],
   "source": [
    "df.head()"
   ]
  },
  {
   "cell_type": "code",
   "execution_count": 153,
   "metadata": {},
   "outputs": [
    {
     "data": {
      "text/plain": [
       "(189035, 25)"
      ]
     },
     "execution_count": 153,
     "metadata": {},
     "output_type": "execute_result"
    }
   ],
   "source": [
    "df = df[df.EXCEPTRSNCODE != 'NEI']\n",
    "df.shape"
   ]
  },
  {
   "cell_type": "code",
   "execution_count": 154,
   "metadata": {},
   "outputs": [
    {
     "data": {
      "text/plain": [
       "(184920, 25)"
      ]
     },
     "execution_count": 154,
     "metadata": {},
     "output_type": "execute_result"
    }
   ],
   "source": [
    "df = df[df.STATUS != 'Unmatched']\n",
    "df.shape"
   ]
  },
  {
   "attachments": {},
   "cell_type": "markdown",
   "metadata": {},
   "source": [
    "### 3.Exploratory Data Analysis\n",
    "\n",
    "#### 3.1 Dumming the Target Variable\n",
    "\n",
    "The target variable is a binary classification variable with values 1 and 2, where 1 represents property damage and 2 is injury. Since it's a binary variable, the obvious choice is the have a binary classification model. In order to achieve that, the target variable should be converted into a dummy variable, where 0 represents a non-event and 1 represents an event, where an event is an injury. The model will try to predict the occurrence of an injury due to the accident reported.\n",
    "\n",
    "#### 3.2 Binning and re-classifying the variables\n",
    "\n",
    "Many of the variables are redundant variables as discussed in the Data section. After eliminating those, the final set of variables are as follows: \n",
    "    1. ADDRTYPE\n",
    "    2. COLLISIONTYPE\n",
    "    3. PERSONCOUNT\n",
    "    4. PEDCOUNT\n",
    "    5. PEDCYLCOUNT\n",
    "    6. VEHCOUNT\n",
    "    7. JUNCTIONTYPE\n",
    "    8. SDOT_COLCODE\n",
    "    9. INATTENTIONIND\n",
    "    10. UNDERINFL\n",
    "    11. WEATHER\n",
    "    12. ROADCOND\n",
    "    13. LIGHTCOND\n",
    "    14. PEDROWNOTGRNT\n",
    "    15. SPEEDING\n",
    "    16. HITPARKEDCAR\n",
    "    \n",
    "After collapsing the categories based on the Information Value statistic, the final binnings are as follows:\n",
    "\n",
    "    1. COLLISIONTYPE:\n",
    "        NaN : Other\n",
    "        Angles, Left Turn : Angles/Left Turn\n",
    "        Cycles, Pedestrian : Cycles/Pedestrian\n",
    "        Head On, Rear Ended : Head On/Rear Ended\n",
    "        Parked Car : Parked Car\n",
    "        Right Turn : Right Turn\n",
    "        Sideswipe : Sideswipe\n",
    "        \n",
    "    2. PERSONCOUNT\n",
    "        <=2 : 2\n",
    "        3 to 5 : 3 to 5\n",
    "        >=6 : 6+\n",
    "        \n",
    "    3. PEDCOUNT\n",
    "        0 : 0\n",
    "        >0 : 1+\n",
    "        \n",
    "    4. PEDCYLCOUNT\n",
    "        0 : 0\n",
    "        >0 : 1+ \n",
    "        \n",
    "    5. VEHCOUNT\n",
    "        <=1 : 1\n",
    "        2 : 2\n",
    "        >=3 : 3+\n",
    "        \n",
    "    6. JUNCTIONTYPE\n",
    "        NaN, Ramp Junction: Unknown\n",
    "        At Intersection (but not related to intersection) : At Intersection (but not related to intersection)\n",
    "        At Intersection (intersection related) : At Intersection (intersection related)\n",
    "        Driveway Junction : Driveway Junction\n",
    "        Mid-Block (but intersection related) : Mid-Block (but intersection related)\n",
    "        Mid-Block (not related to intersection) : Mid-Block (not related to intersection)\n",
    "        \n",
    "    7. SDOT_COLCODE\n",
    "        11 : 11\n",
    "        14 : 14\n",
    "        16 : 16\n",
    "        14 : 14\n",
    "        0, 13 : 1300\n",
    "        26,28 : 2628\n",
    "        all other: 99\n",
    "        \n",
    "    8. INATTENTIONIND\n",
    "        Y : Y\n",
    "        NaN : N\n",
    "        \n",
    "    9. ROADCOND\n",
    "        NaN, Unknown, Standing Water, Oil, Sand/Mud/Dirt : Other\n",
    "        Ice, Snow/Slush : Ice/Snow/Slush\n",
    "        Dry, Wet : Dry/Wet\n",
    "        \n",
    "    10. LIGHTCOND\n",
    "        NaN, Unknown : Other\n",
    "        Dark - Street Lights On : Dark - Street Lights On\n",
    "        Dark-No Lights/Off/Other : Dark-No Lights/Off/Other\n",
    "        Dawn, Desk : Dawn/Desk\n",
    "        Daylight : Daylight\n",
    "\n",
    "    11. WEATHER\n",
    "        Clear : Clear\n",
    "        Fog/Smog/Smoke : Fog/Smog/Smoke\n",
    "        Overcast : Overcast\n",
    "        Raining : Raining\n",
    "        Snowing : Snowing\n",
    "        NaN, Other : Snowing\n",
    "        \n",
    "    12. PEDROWNOTGRNT\n",
    "        NaN : N\n",
    "        Y : Y\n",
    "        \n",
    "    13. SPEEDING\n",
    "        NaN : N\n",
    "        Y : Y\n",
    "        \n",
    "#### 3.3 Changing categorical variables into continuous variables\n",
    "\n",
    "To fit the logistic regression model the features are converted into continuous variables using weight of evidence of the SEVERITYCODE on each of the variable and their classifications. This is the basis of the weights for each of the category. The final category is as follows: Note: only the variables and their final binning is shown here.\n",
    "\n",
    "    COLLISIONTYPE : \n",
    "        Angles/Left Turn : 23\n",
    "        Cycles/Pedestrian : 49\n",
    "        Head On/Rear Ended : 25\n",
    "        Other : 17\n",
    "        Parked Car : 0\n",
    "        Right Turn : 14\n",
    "        Sideswipe : 9\n",
    "\n",
    "    PERSONCOUNT : \n",
    "        2 : 0\n",
    "        3 to 6 : 7\n",
    "        6+ : 12\n",
    "\n",
    "    PEDCOUNT : \n",
    "        0 : 0\n",
    "        1+ : 31\n",
    "\n",
    "    PEDCYLCOUNT : \n",
    "        0 : 0\n",
    "        1+ : 29\n",
    "\n",
    "    VEHCOUNT : \n",
    "        1 : 13\n",
    "        2 : 0\n",
    "        3+ : 8\n",
    "\n",
    "    SDOT_COLCODE : \n",
    "        11 : 22\n",
    "        14 : 24\n",
    "        16 : 5\n",
    "        24 : 53\n",
    "        99 : 33\n",
    "        1300 : 0\n",
    "        2628 : 20\n",
    "        \n"
   ]
  },
  {
   "cell_type": "code",
   "execution_count": 155,
   "metadata": {},
   "outputs": [
    {
     "name": "stdout",
     "output_type": "stream",
     "text": [
      "the columns is:  ADDRTYPE\n",
      "Block           121089\n",
      "Intersection     63083\n",
      "Alley              745\n",
      "NaN                  3\n",
      "Name: ADDRTYPE, dtype: int64\n",
      "**********************\n",
      "\n",
      "the columns is:  COLLISIONTYPE\n",
      "Parked Car    44766\n",
      "Angles        34521\n",
      "Rear Ended    33611\n",
      "Other         23350\n",
      "Sideswipe     18278\n",
      "Left Turn     13635\n",
      "Pedestrian     6481\n",
      "Cycles         5332\n",
      "Right Turn     2921\n",
      "Head On        2007\n",
      "NaN              18\n",
      "Name: COLLISIONTYPE, dtype: int64\n",
      "**********************\n",
      "\n",
      "the columns is:  PERSONCOUNT\n",
      "2     107304\n",
      "3      34880\n",
      "4      14369\n",
      "1      11524\n",
      "5       6553\n",
      "0       5359\n",
      "6       2695\n",
      "7       1125\n",
      "8        532\n",
      "9        214\n",
      "10       128\n",
      "11        56\n",
      "12        33\n",
      "13        21\n",
      "14        19\n",
      "15        11\n",
      "17        11\n",
      "16         8\n",
      "44         6\n",
      "18         6\n",
      "20         6\n",
      "25         6\n",
      "19         5\n",
      "26         4\n",
      "22         4\n",
      "27         3\n",
      "28         3\n",
      "29         3\n",
      "47         3\n",
      "32         3\n",
      "34         3\n",
      "37         3\n",
      "23         2\n",
      "21         2\n",
      "24         2\n",
      "30         2\n",
      "36         2\n",
      "57         1\n",
      "31         1\n",
      "35         1\n",
      "39         1\n",
      "41         1\n",
      "43         1\n",
      "48         1\n",
      "53         1\n",
      "54         1\n",
      "81         1\n",
      "Name: PERSONCOUNT, dtype: int64\n",
      "**********************\n",
      "\n",
      "the columns is:  PEDCOUNT\n",
      "0    178110\n",
      "1      6561\n",
      "2       221\n",
      "3        22\n",
      "4         4\n",
      "6         1\n",
      "5         1\n",
      "Name: PEDCOUNT, dtype: int64\n",
      "**********************\n",
      "\n",
      "the columns is:  PEDCYLCOUNT\n",
      "0    179523\n",
      "1      5354\n",
      "2        43\n",
      "Name: PEDCYLCOUNT, dtype: int64\n",
      "**********************\n",
      "\n",
      "the columns is:  VEHCOUNT\n",
      "2     143285\n",
      "1      25336\n",
      "3      12933\n",
      "4       2418\n",
      "5        528\n",
      "0        196\n",
      "6        146\n",
      "7         45\n",
      "8         15\n",
      "9          9\n",
      "11         6\n",
      "10         2\n",
      "12         1\n",
      "Name: VEHCOUNT, dtype: int64\n",
      "**********************\n",
      "\n",
      "the columns is:  JUNCTIONTYPE\n",
      "Mid-Block (not related to intersection)              85537\n",
      "At Intersection (intersection related)               60871\n",
      "Mid-Block (but intersection related)                 22354\n",
      "Driveway Junction                                    10527\n",
      "NaN                                                   3440\n",
      "At Intersection (but not related to intersection)     2027\n",
      "Ramp Junction                                          159\n",
      "Unknown                                                  5\n",
      "Name: JUNCTIONTYPE, dtype: int64\n",
      "**********************\n",
      "\n",
      "the columns is:  SDOT_COLCODE\n",
      "11    83105\n",
      "14    52521\n",
      "16     9784\n",
      "28     8745\n",
      "24     6380\n",
      "13     5427\n",
      "0      5107\n",
      "26     4649\n",
      "18     3029\n",
      "15     1567\n",
      "12     1319\n",
      "51     1293\n",
      "29      471\n",
      "21      181\n",
      "56      178\n",
      "27      160\n",
      "54      134\n",
      "23      123\n",
      "48      106\n",
      "31      103\n",
      "25      100\n",
      "34       92\n",
      "64       75\n",
      "69       67\n",
      "33       53\n",
      "55       50\n",
      "66       23\n",
      "22       17\n",
      "32       12\n",
      "53        9\n",
      "44        8\n",
      "61        7\n",
      "35        6\n",
      "58        5\n",
      "68        4\n",
      "36        4\n",
      "46        3\n",
      "52        2\n",
      "47        1\n",
      "Name: SDOT_COLCODE, dtype: int64\n",
      "**********************\n",
      "\n",
      "the columns is:  INATTENTIONIND\n",
      "NaN    155675\n",
      "Y       29245\n",
      "Name: INATTENTIONIND, dtype: int64\n",
      "**********************\n",
      "\n",
      "the columns is:  UNDERINFL\n",
      "N    96132\n",
      "0    79724\n",
      "Y     5072\n",
      "1     3992\n",
      "Name: UNDERINFL, dtype: int64\n",
      "**********************\n",
      "\n",
      "the columns is:  WEATHER\n",
      "Clear                       109741\n",
      "Raining                      32811\n",
      "Overcast                     27424\n",
      "Unknown                      12368\n",
      "Snowing                        886\n",
      "Other                          758\n",
      "Fog/Smog/Smoke                 557\n",
      "NaN                            184\n",
      "Sleet/Hail/Freezing Rain       112\n",
      "Blowing Sand/Dirt               49\n",
      "Severe Crosswind                25\n",
      "Partly Cloudy                    5\n",
      "Name: WEATHER, dtype: int64\n",
      "**********************\n",
      "\n",
      "the columns is:  ROADCOND\n",
      "Dry               123038\n",
      "Wet                47008\n",
      "Unknown            12221\n",
      "Ice                 1183\n",
      "Snow/Slush           987\n",
      "Other                123\n",
      "NaN                  116\n",
      "Standing Water       109\n",
      "Sand/Mud/Dirt         74\n",
      "Oil                   61\n",
      "Name: ROADCOND, dtype: int64\n",
      "**********************\n",
      "\n",
      "the columns is:  LIGHTCOND\n",
      "Daylight                    114331\n",
      "Dark - Street Lights On      47909\n",
      "Unknown                      11228\n",
      "Dusk                          5809\n",
      "Dawn                          2474\n",
      "Dark - No Street Lights       1506\n",
      "Dark - Street Lights Off      1181\n",
      "NaN                            254\n",
      "Other                          217\n",
      "Dark - Unknown Lighting         11\n",
      "Name: LIGHTCOND, dtype: int64\n",
      "**********************\n",
      "\n",
      "the columns is:  PEDROWNOTGRNT\n",
      "NaN    180294\n",
      "Y        4626\n",
      "Name: PEDROWNOTGRNT, dtype: int64\n",
      "**********************\n",
      "\n",
      "the columns is:  SPEEDING\n",
      "NaN    175681\n",
      "Y        9239\n",
      "Name: SPEEDING, dtype: int64\n",
      "**********************\n",
      "\n",
      "the columns is:  HITPARKEDCAR\n",
      "N    179225\n",
      "Y      5695\n",
      "Name: HITPARKEDCAR, dtype: int64\n",
      "**********************\n",
      "\n"
     ]
    }
   ],
   "source": [
    "import numpy as np\n",
    "cols = [\"ADDRTYPE\", \"COLLISIONTYPE\", \"PERSONCOUNT\", \"PEDCOUNT\", \"PEDCYLCOUNT\", \"VEHCOUNT\", \"JUNCTIONTYPE\", \"SDOT_COLCODE\", \"INATTENTIONIND\", \"UNDERINFL\", \n",
    "\"WEATHER\", \"ROADCOND\", \"LIGHTCOND\", \"PEDROWNOTGRNT\", \"SPEEDING\", \"HITPARKEDCAR\"]\n",
    "\n",
    "for c in cols:\n",
    "    print(\"the columns is: \", c)\n",
    "    print(df[c].value_counts(dropna=False))\n",
    "    print(\"**********************\")\n",
    "    print(\"\")"
   ]
  },
  {
   "cell_type": "code",
   "execution_count": 156,
   "metadata": {},
   "outputs": [
    {
     "name": "stdout",
     "output_type": "stream",
     "text": [
      "the columns is:  ADDRTYPE\n",
      "Block           121092\n",
      "Intersection     63083\n",
      "Alley              745\n",
      "Name: ADDRTYPE, dtype: int64\n",
      "**********************\n",
      "\n",
      "the columns is:  COLLISIONTYPE\n",
      "Angles/Left Turn      48156\n",
      "Parked Car            44766\n",
      "Head On/Rear Ended    35618\n",
      "Other                 23368\n",
      "Sideswipe             18278\n",
      "Cycles/Pedestrian     11813\n",
      "Right Turn             2921\n",
      "Name: COLLISIONTYPE, dtype: int64\n",
      "**********************\n",
      "\n",
      "the columns is:  PERSONCOUNT\n",
      "2    124187\n",
      "3     55802\n",
      "6      4931\n",
      "Name: PERSONCOUNT, dtype: int64\n",
      "**********************\n",
      "\n",
      "the columns is:  PEDCOUNT\n",
      "0    178110\n",
      "1      6810\n",
      "Name: PEDCOUNT, dtype: int64\n",
      "**********************\n",
      "\n",
      "the columns is:  PEDCYLCOUNT\n",
      "0    179523\n",
      "1      5397\n",
      "Name: PEDCYLCOUNT, dtype: int64\n",
      "**********************\n",
      "\n",
      "the columns is:  VEHCOUNT\n",
      "2    143285\n",
      "1     25532\n",
      "3     16103\n",
      "Name: VEHCOUNT, dtype: int64\n",
      "**********************\n",
      "\n",
      "the columns is:  JUNCTIONTYPE\n",
      "Mid-Block (not related to intersection)              85537\n",
      "At Intersection (intersection related)               60871\n",
      "Mid-Block (but intersection related)                 22354\n",
      "Driveway Junction                                    10527\n",
      "Unknown                                               3604\n",
      "At Intersection (but not related to intersection)     2027\n",
      "Name: JUNCTIONTYPE, dtype: int64\n",
      "**********************\n",
      "\n",
      "the columns is:  SDOT_COLCODE\n",
      "11      83105\n",
      "14      52521\n",
      "2628    13394\n",
      "1300    10534\n",
      "16       9784\n",
      "99       9202\n",
      "24       6380\n",
      "Name: SDOT_COLCODE, dtype: int64\n",
      "**********************\n",
      "\n",
      "the columns is:  INATTENTIONIND\n",
      "N    155675\n",
      "Y     29245\n",
      "Name: INATTENTIONIND, dtype: int64\n",
      "**********************\n",
      "\n",
      "the columns is:  UNDERINFL\n",
      "N    96132\n",
      "0    79724\n",
      "Y     5072\n",
      "1     3992\n",
      "Name: UNDERINFL, dtype: int64\n",
      "**********************\n",
      "\n",
      "the columns is:  WEATHER\n",
      "Clear             109741\n",
      "Raining            32811\n",
      "Overcast           27424\n",
      "Other              13501\n",
      "Snowing              886\n",
      "Fog/Smog/Smoke       557\n",
      "Name: WEATHER, dtype: int64\n",
      "**********************\n",
      "\n",
      "the columns is:  ROADCOND\n",
      "Dry/              123038\n",
      "Dry/Wet            47008\n",
      "Other              12704\n",
      "Ice/Snow/Slush      2170\n",
      "Name: ROADCOND, dtype: int64\n",
      "**********************\n",
      "\n",
      "the columns is:  LIGHTCOND\n",
      "Daylight                    114331\n",
      "Dark - Street Lights On      47909\n",
      "Other                        11699\n",
      "Dawn/Desk                     8283\n",
      "Dark-No Lights/Off/Other      2698\n",
      "Name: LIGHTCOND, dtype: int64\n",
      "**********************\n",
      "\n",
      "the columns is:  PEDROWNOTGRNT\n",
      "N    180294\n",
      "Y      4626\n",
      "Name: PEDROWNOTGRNT, dtype: int64\n",
      "**********************\n",
      "\n",
      "the columns is:  SPEEDING\n",
      "N    175681\n",
      "Y      9239\n",
      "Name: SPEEDING, dtype: int64\n",
      "**********************\n",
      "\n",
      "the columns is:  HITPARKEDCAR\n",
      "N    179225\n",
      "Y      5695\n",
      "Name: HITPARKEDCAR, dtype: int64\n",
      "**********************\n",
      "\n"
     ]
    }
   ],
   "source": [
    "# Data Transformation\n",
    "\n",
    "df['ADDRTYPE'].replace(np.NaN, 'Block', inplace=True)\n",
    "\n",
    "df['COLLISIONTYPE'].replace({np.NaN: 'Other', 'Angles':'Angles/Left Turn', 'Left Turn':'Angles/Left Turn',\n",
    "                             'Cycles':'Cycles/Pedestrian', 'Pedestrian':'Cycles/Pedestrian', \n",
    "                             'Head On':'Head On/Rear Ended', 'Rear Ended':'Head On/Rear Ended'}, inplace=True)\n",
    "\n",
    "df['PERSONCOUNT'] = np.where((df.PERSONCOUNT >5),6,df.PERSONCOUNT)\n",
    "df['PERSONCOUNT'] = np.where((df.PERSONCOUNT ==3),3,df.PERSONCOUNT)\n",
    "df['PERSONCOUNT'] = np.where((df.PERSONCOUNT ==4),3,df.PERSONCOUNT)\n",
    "df['PERSONCOUNT'] = np.where((df.PERSONCOUNT ==5),3,df.PERSONCOUNT)\n",
    "df['PERSONCOUNT'] = np.where((df.PERSONCOUNT <3),2,df.PERSONCOUNT)\n",
    "\n",
    "df['PEDCOUNT'] = np.where((df.PEDCOUNT >0),1,df.PEDCOUNT)\n",
    "\n",
    "df['PEDCYLCOUNT'] = np.where((df.PEDCYLCOUNT >0),1,df.PEDCYLCOUNT)\n",
    "\n",
    "df['VEHCOUNT'] = np.where((df.VEHCOUNT >2),3,df.VEHCOUNT)\n",
    "df['VEHCOUNT'] = np.where((df.VEHCOUNT <2),1,df.VEHCOUNT)\n",
    "\n",
    "df['JUNCTIONTYPE'].replace({np.NaN:'Unknown', 'Ramp Junction':'Unknown'}, inplace=True)\n",
    "\n",
    "df['SDOT_COLCODE'].replace({18:99, 15:99, 12:99, 51:99, 29:99, 21:99, 56:99, 27:99, 54:99, 23:99, 48:99, \n",
    "                            31:99, 25:99, 34:99, 64:99, 69:99, 33:99, 55:99, 66:99, 22:99, 32:99, 53:99, \n",
    "                            44:99, 61:99, 35:99, 58:99, 68:99, 36:99, 46:99, 52:99, 47:99, 13:1300, 0:1300,\n",
    "                           26:2628, 28:2628}, inplace=True)\n",
    "\n",
    "df['INATTENTIONIND'].replace(np.NaN, 'N', inplace=True)\n",
    "\n",
    "df['WEATHER'].replace({np.NaN:'Other', 'Unknown':'Other', 'Sleet/Hail/Freezing Rain':'Other', 'Blowing Sand/Dirt':'Other', \n",
    "                       'Severe Crosswind':'Other', 'Partly Cloudy':'Other'}, inplace=True)\n",
    "\n",
    "df['ROADCOND'].replace({np.NaN:'Other', 'Unknown':'Other', 'Standing Water':'Other', 'Sand/Mud/Dirt':'Other', 'Oil':'Other',\n",
    "                       'Ice':'Ice/Snow/Slush', 'Snow/Slush':'Ice/Snow/Slush', 'Dry':'Dry/Wet', 'Wet':'Dry/Wet'}, \n",
    "                       inplace=True)\n",
    "\n",
    "df['LIGHTCOND'].replace({np.NaN:'Other', 'Unknown':'Other', 'Dark - No Street Lights':'Dark-No Lights/Off/Other', \n",
    "                         'Dark - Street Lights Off':'Dark-No Lights/Off/Other', \n",
    "                         'Dark - Unknown Lighting':'Dark-No Lights/Off/Other',\n",
    "                        'Dusk':'Dawn/Desk', 'Dawn':'Dawn/Desk'}, inplace=True)\n",
    "\n",
    "df['PEDROWNOTGRNT'].replace(np.NaN, 'N', inplace=True)\n",
    "\n",
    "df['SPEEDING'].replace(np.NaN, 'N', inplace=True)\n",
    "\n",
    "for c in cols:\n",
    "    print(\"the columns is: \", c)\n",
    "    print(df[c].value_counts(dropna=False))\n",
    "    print(\"**********************\")\n",
    "    print(\"\")"
   ]
  },
  {
   "cell_type": "code",
   "execution_count": 157,
   "metadata": {},
   "outputs": [],
   "source": [
    "import seaborn as sns\n",
    "import matplotlib.pyplot as plt\n",
    "import dexplot as dxp"
   ]
  },
  {
   "cell_type": "code",
   "execution_count": 158,
   "metadata": {},
   "outputs": [
    {
     "data": {
      "image/png": "[encoded data removed]",
      "text/plain": [
       "<Figure size 1152x432 with 1 Axes>"
      ]
     },
     "metadata": {
      "needs_background": "light"
     },
     "output_type": "display_data"
    },
    {
     "data": {
      "image/png": "[encoded data removed]",
      "text/plain": [
       "<Figure size 1152x432 with 1 Axes>"
      ]
     },
     "metadata": {
      "needs_background": "light"
     },
     "output_type": "display_data"
    },
    {
     "data": {
      "image/png": "[encoded data removed]",
      "text/plain": [
       "<Figure size 1152x432 with 1 Axes>"
      ]
     },
     "metadata": {
      "needs_background": "light"
     },
     "output_type": "display_data"
    },
    {
     "data": {
      "image/png": "[encoded data removed]",
      "text/plain": [
       "<Figure size 1152x432 with 1 Axes>"
      ]
     },
     "metadata": {
      "needs_background": "light"
     },
     "output_type": "display_data"
    },
    {
     "data": {
      "image/png": "[encoded data removed]",
      "text/plain": [
       "<Figure size 1152x432 with 1 Axes>"
      ]
     },
     "metadata": {
      "needs_background": "light"
     },
     "output_type": "display_data"
    },
    {
     "data": {
      "image/png": "[encoded data removed]",
      "text/plain": [
       "<Figure size 1152x432 with 1 Axes>"
      ]
     },
     "metadata": {
      "needs_background": "light"
     },
     "output_type": "display_data"
    },
    {
     "data": {
      "image/png": "[encoded data removed]",
      "text/plain": [
       "<Figure size 1152x432 with 1 Axes>"
      ]
     },
     "metadata": {
      "needs_background": "light"
     },
     "output_type": "display_data"
    },
    {
     "data": {
      "image/png": "[encoded data removed]",
      "text/plain": [
       "<Figure size 1152x432 with 1 Axes>"
      ]
     },
     "metadata": {
      "needs_background": "light"
     },
     "output_type": "display_data"
    },
    {
     "data": {
      "image/png": "[encoded data removed]",
      "text/plain": [
       "<Figure size 1152x432 with 1 Axes>"
      ]
     },
     "metadata": {
      "needs_background": "light"
     },
     "output_type": "display_data"
    },
    {
     "data": {
      "image/png": "[encoded data removed]",
      "text/plain": [
       "<Figure size 1152x432 with 1 Axes>"
      ]
     },
     "metadata": {
      "needs_background": "light"
     },
     "output_type": "display_data"
    },
    {
     "data": {
      "image/png": "[encoded data removed]",
      "text/plain": [
       "<Figure size 1152x432 with 1 Axes>"
      ]
     },
     "metadata": {
      "needs_background": "light"
     },
     "output_type": "display_data"
    },
    {
     "data": {
      "image/png": "[encoded data removed]",
      "text/plain": [
       "<Figure size 1152x432 with 1 Axes>"
      ]
     },
     "metadata": {
      "needs_background": "light"
     },
     "output_type": "display_data"
    },
    {
     "data": {
      "image/png": "[encoded data removed]",
      "text/plain": [
       "<Figure size 1152x432 with 1 Axes>"
      ]
     },
     "metadata": {
      "needs_background": "light"
     },
     "output_type": "display_data"
    },
    {
     "data": {
      "image/png": "[encoded data removed]",
      "text/plain": [
       "<Figure size 1152x432 with 1 Axes>"
      ]
     },
     "metadata": {
      "needs_background": "light"
     },
     "output_type": "display_data"
    },
    {
     "data": {
      "image/png": "[encoded data removed]",
      "text/plain": [
       "<Figure size 1152x432 with 1 Axes>"
      ]
     },
     "metadata": {
      "needs_background": "light"
     },
     "output_type": "display_data"
    },
    {
     "data": {
      "image/png": "[encoded data removed]",
      "text/plain": [
       "<Figure size 1152x432 with 1 Axes>"
      ]
     },
     "metadata": {
      "needs_background": "light"
     },
     "output_type": "display_data"
    }
   ],
   "source": [
    "for c in cols:\n",
    "    plt.figure(figsize=(16, 6))\n",
    "    sns.countplot(c, hue='SEVERITYCODE', data=df)\n",
    "\n",
    "\n"
   ]
  },
  {
   "cell_type": "code",
   "execution_count": 231,
   "metadata": {},
   "outputs": [
    {
     "data": {
      "image/png": "[encoded data removed]",
      "text/plain": [
       "<Figure size 546.048x316.8 with 1 Axes>"
      ]
     },
     "execution_count": 231,
     "metadata": {},
     "output_type": "execute_result"
    },
    {
     "data": {
      "text/plain": [
       "<Figure size 720x432 with 0 Axes>"
      ]
     },
     "metadata": {},
     "output_type": "display_data"
    }
   ],
   "source": [
    "plt.figure(figsize=(10, 6))\n",
    "dxp.count('COLLISIONTYPE', data=df, split='SEVERITYCODE', normalize='COLLISIONTYPE')"
   ]
  },
  {
   "cell_type": "code",
   "execution_count": 160,
   "metadata": {},
   "outputs": [
    {
     "name": "stdout",
     "output_type": "stream",
     "text": [
      "Variable *********** :  ADDRTYPE\n",
      "ADDRTYPE      SEVERITYCODE\n",
      "Alley         0                 664\n",
      "              1                  81\n",
      "Block         0               91736\n",
      "              1               29356\n",
      "Intersection  0               35810\n",
      "              1               27273\n",
      "dtype: int64\n",
      "***********************************************\n",
      "\n",
      "Variable *********** :  COLLISIONTYPE\n",
      "COLLISIONTYPE       SEVERITYCODE\n",
      "Angles/Left Turn    0               29162\n",
      "                    1               18994\n",
      "Cycles/Pedestrian   0                1300\n",
      "                    1               10513\n",
      "Head On/Rear Ended  0               20210\n",
      "                    1               15408\n",
      "Other               0               17301\n",
      "                    1                6067\n",
      "Parked Car          0               42123\n",
      "                    1                2643\n",
      "Right Turn          0                2316\n",
      "                    1                 605\n",
      "Sideswipe           0               15798\n",
      "                    1                2480\n",
      "dtype: int64\n",
      "***********************************************\n",
      "\n",
      "Variable *********** :  PERSONCOUNT\n",
      "PERSONCOUNT  SEVERITYCODE\n",
      "2            0               92484\n",
      "             1               31703\n",
      "3            0               33382\n",
      "             1               22420\n",
      "6            0                2344\n",
      "             1                2587\n",
      "dtype: int64\n",
      "***********************************************\n",
      "\n",
      "Variable *********** :  PEDCOUNT\n",
      "PEDCOUNT  SEVERITYCODE\n",
      "0         0               127530\n",
      "          1                50580\n",
      "1         0                  680\n",
      "          1                 6130\n",
      "dtype: int64\n",
      "***********************************************\n",
      "\n",
      "Variable *********** :  PEDCYLCOUNT\n",
      "PEDCYLCOUNT  SEVERITYCODE\n",
      "0            0               127556\n",
      "             1                51967\n",
      "1            0                  654\n",
      "             1                 4743\n",
      "dtype: int64\n",
      "***********************************************\n",
      "\n",
      "Variable *********** :  VEHCOUNT\n",
      "VEHCOUNT  SEVERITYCODE\n",
      "1         0                11441\n",
      "          1                14091\n",
      "2         0               107546\n",
      "          1                35739\n",
      "3         0                 9223\n",
      "          1                 6880\n",
      "dtype: int64\n",
      "***********************************************\n",
      "\n",
      "Variable *********** :  JUNCTIONTYPE\n",
      "JUNCTIONTYPE                                       SEVERITYCODE\n",
      "At Intersection (but not related to intersection)  0                1423\n",
      "                                                   1                 604\n",
      "At Intersection (intersection related)             0               34231\n",
      "                                                   1               26640\n",
      "Driveway Junction                                  0                7327\n",
      "                                                   1                3200\n",
      "Mid-Block (but intersection related)               0               15152\n",
      "                                                   1                7202\n",
      "Mid-Block (not related to intersection)            0               66686\n",
      "                                                   1               18851\n",
      "Unknown                                            0                3391\n",
      "                                                   1                 213\n",
      "dtype: int64\n",
      "***********************************************\n",
      "\n",
      "Variable *********** :  SDOT_COLCODE\n",
      "SDOT_COLCODE  SEVERITYCODE\n",
      "11            0               59118\n",
      "              1               23987\n",
      "14            0               35171\n",
      "              1               17350\n",
      "16            0                9099\n",
      "              1                 685\n",
      "24            0                 640\n",
      "              1                5740\n",
      "99            0                4094\n",
      "              1                5108\n",
      "1300          0               10092\n",
      "              1                 442\n",
      "2628          0                9996\n",
      "              1                3398\n",
      "dtype: int64\n",
      "***********************************************\n",
      "\n",
      "Variable *********** :  INATTENTIONIND\n",
      "INATTENTIONIND  SEVERITYCODE\n",
      "N               0               109285\n",
      "                1                46390\n",
      "Y               0                18925\n",
      "                1                10320\n",
      "dtype: int64\n",
      "***********************************************\n",
      "\n",
      "Variable *********** :  UNDERINFL\n",
      "UNDERINFL  SEVERITYCODE\n",
      "0          0               57115\n",
      "           1               22609\n",
      "1          0                2370\n",
      "           1                1622\n",
      "N          0               65574\n",
      "           1               30558\n",
      "Y          0                3151\n",
      "           1                1921\n",
      "dtype: int64\n",
      "***********************************************\n",
      "\n",
      "Variable *********** :  WEATHER\n",
      "WEATHER         SEVERITYCODE\n",
      "Clear           0               74130\n",
      "                1               35611\n",
      "Fog/Smog/Smoke  0                 372\n",
      "                1                 185\n",
      "Other           0               12539\n",
      "                1                 962\n",
      "Overcast        0               18737\n",
      "                1                8687\n",
      "Raining         0               21715\n",
      "                1               11096\n",
      "Snowing         0                 717\n",
      "                1                 169\n",
      "dtype: int64\n",
      "***********************************************\n",
      "\n",
      "Variable *********** :  ROADCOND\n",
      "ROADCOND        SEVERITYCODE\n",
      "Dry/            0               83236\n",
      "                1               39802\n",
      "Dry/Wet         0               31361\n",
      "                1               15647\n",
      "Ice/Snow/Slush  0                1738\n",
      "                1                 432\n",
      "Other           0               11875\n",
      "                1                 829\n",
      "dtype: int64\n",
      "***********************************************\n",
      "\n",
      "Variable *********** :  LIGHTCOND\n",
      "LIGHTCOND                 SEVERITYCODE\n",
      "Dark - Street Lights On   0               33531\n",
      "                          1               14378\n",
      "Dark-No Lights/Off/Other  0                2049\n",
      "                          1                 649\n",
      "Dawn/Desk                 0                5530\n",
      "                          1                2753\n",
      "Daylight                  0               76076\n",
      "                          1               38255\n",
      "Other                     0               11024\n",
      "                          1                 675\n",
      "dtype: int64\n",
      "***********************************************\n",
      "\n",
      "Variable *********** :  PEDROWNOTGRNT\n",
      "PEDROWNOTGRNT  SEVERITYCODE\n",
      "N              0               127755\n",
      "               1                52539\n",
      "Y              0                  455\n",
      "               1                 4171\n",
      "dtype: int64\n",
      "***********************************************\n",
      "\n",
      "Variable *********** :  SPEEDING\n",
      "SPEEDING  SEVERITYCODE\n",
      "N         0               122472\n",
      "          1                53209\n",
      "Y         0                 5738\n",
      "          1                 3501\n",
      "dtype: int64\n",
      "***********************************************\n",
      "\n",
      "Variable *********** :  HITPARKEDCAR\n",
      "HITPARKEDCAR  SEVERITYCODE\n",
      "N             0               122925\n",
      "              1                56300\n",
      "Y             0                 5285\n",
      "              1                  410\n",
      "dtype: int64\n",
      "***********************************************\n",
      "\n"
     ]
    }
   ],
   "source": [
    "for c in cols:\n",
    "    print('Variable *********** : ', c)\n",
    "    print(df.groupby([c, 'SEVERITYCODE']).size())\n",
    "    print('***********************************************')\n",
    "    print('')"
   ]
  },
  {
   "attachments": {},
   "cell_type": "markdown",
   "metadata": {},
   "source": [
    "### 4. Model Development\n",
    "\n",
    "Since the target variable is a binary variable, the model employed is Logistic Regression. Logistic regression is widely employed by data scientists and researchers. Some of the added advantages include easy to implement, and interpret. \n",
    "\n",
    "Logistic regression uses a sigmoid function:\n",
    "\n",
    "    p = 1/1+e^-y\n",
    "    \n",
    "Properties of Logistic Regression:\n",
    "    \n",
    "    •\tDependent variable follows Bernoulli Distribution\n",
    "    •\tEstimation is done through maximum likelihood\n",
    "    •\tModel fitness is calculated through Concordance, KS-D static\n",
    "    \n",
    "#### 4.1 Building \n",
    "\n",
    "Model building in Scikit-learn - Here we are going to predict the severity of the accident using logistic regression classifier. \n",
    "\n",
    "#### 4.2 Testing and Training Data\n",
    "\n",
    "“from sklearn.cross_validation import train_test_split” \n",
    "The training data will be used to fit the model, and later the model will tested using the testing data. I used 85-15 split of training and testing data.\n",
    "    "
   ]
  },
  {
   "cell_type": "code",
   "execution_count": 163,
   "metadata": {},
   "outputs": [
    {
     "data": {
      "text/plain": [
       "(184920, 8)"
      ]
     },
     "execution_count": 163,
     "metadata": {},
     "output_type": "execute_result"
    }
   ],
   "source": [
    "df_proc = df[['SEVERITYCODE', 'COLLISIONTYPE', 'PERSONCOUNT', 'PEDCOUNT', 'PEDCYLCOUNT', 'VEHCOUNT', 'SDOT_COLCODE', 'PEDROWNOTGRNT']]\n",
    "df_proc.shape"
   ]
  },
  {
   "cell_type": "code",
   "execution_count": 164,
   "metadata": {},
   "outputs": [
    {
     "data": {
      "text/html": [
       "<div>\n",
       "<style scoped>\n",
       "    .dataframe tbody tr th:only-of-type {\n",
       "        vertical-align: middle;\n",
       "    }\n",
       "\n",
       "    .dataframe tbody tr th {\n",
       "        vertical-align: top;\n",
       "    }\n",
       "\n",
       "    .dataframe thead th {\n",
       "        text-align: right;\n",
       "    }\n",
       "</style>\n",
       "<table border=\"1\" class=\"dataframe\">\n",
       "  <thead>\n",
       "    <tr style=\"text-align: right;\">\n",
       "      <th></th>\n",
       "      <th>SEVERITYCODE</th>\n",
       "      <th>COLLISIONTYPE</th>\n",
       "      <th>PERSONCOUNT</th>\n",
       "      <th>PEDCOUNT</th>\n",
       "      <th>PEDCYLCOUNT</th>\n",
       "      <th>VEHCOUNT</th>\n",
       "      <th>SDOT_COLCODE</th>\n",
       "      <th>PEDROWNOTGRNT</th>\n",
       "    </tr>\n",
       "  </thead>\n",
       "  <tbody>\n",
       "    <tr>\n",
       "      <th>0</th>\n",
       "      <td>1</td>\n",
       "      <td>Angles/Left Turn</td>\n",
       "      <td>2</td>\n",
       "      <td>0</td>\n",
       "      <td>0</td>\n",
       "      <td>2</td>\n",
       "      <td>11</td>\n",
       "      <td>N</td>\n",
       "    </tr>\n",
       "    <tr>\n",
       "      <th>1</th>\n",
       "      <td>0</td>\n",
       "      <td>Sideswipe</td>\n",
       "      <td>2</td>\n",
       "      <td>0</td>\n",
       "      <td>0</td>\n",
       "      <td>2</td>\n",
       "      <td>16</td>\n",
       "      <td>N</td>\n",
       "    </tr>\n",
       "    <tr>\n",
       "      <th>2</th>\n",
       "      <td>0</td>\n",
       "      <td>Parked Car</td>\n",
       "      <td>3</td>\n",
       "      <td>0</td>\n",
       "      <td>0</td>\n",
       "      <td>3</td>\n",
       "      <td>14</td>\n",
       "      <td>N</td>\n",
       "    </tr>\n",
       "    <tr>\n",
       "      <th>3</th>\n",
       "      <td>0</td>\n",
       "      <td>Other</td>\n",
       "      <td>3</td>\n",
       "      <td>0</td>\n",
       "      <td>0</td>\n",
       "      <td>3</td>\n",
       "      <td>11</td>\n",
       "      <td>N</td>\n",
       "    </tr>\n",
       "    <tr>\n",
       "      <th>4</th>\n",
       "      <td>1</td>\n",
       "      <td>Angles/Left Turn</td>\n",
       "      <td>2</td>\n",
       "      <td>0</td>\n",
       "      <td>0</td>\n",
       "      <td>2</td>\n",
       "      <td>11</td>\n",
       "      <td>N</td>\n",
       "    </tr>\n",
       "  </tbody>\n",
       "</table>\n",
       "</div>"
      ],
      "text/plain": [
       "   SEVERITYCODE     COLLISIONTYPE  PERSONCOUNT  PEDCOUNT  PEDCYLCOUNT  \\\n",
       "0             1  Angles/Left Turn            2         0            0   \n",
       "1             0         Sideswipe            2         0            0   \n",
       "2             0        Parked Car            3         0            0   \n",
       "3             0             Other            3         0            0   \n",
       "4             1  Angles/Left Turn            2         0            0   \n",
       "\n",
       "   VEHCOUNT  SDOT_COLCODE PEDROWNOTGRNT  \n",
       "0         2            11             N  \n",
       "1         2            16             N  \n",
       "2         3            14             N  \n",
       "3         3            11             N  \n",
       "4         2            11             N  "
      ]
     },
     "execution_count": 164,
     "metadata": {},
     "output_type": "execute_result"
    }
   ],
   "source": [
    "df_proc.head()"
   ]
  },
  {
   "cell_type": "code",
   "execution_count": 169,
   "metadata": {},
   "outputs": [
    {
     "name": "stderr",
     "output_type": "stream",
     "text": [
      "C:\\Users\\a_pup\\anaconda3\\lib\\site-packages\\pandas\\core\\indexing.py:966: SettingWithCopyWarning: \n",
      "A value is trying to be set on a copy of a slice from a DataFrame.\n",
      "Try using .loc[row_indexer,col_indexer] = value instead\n",
      "\n",
      "See the caveats in the documentation: https://pandas.pydata.org/pandas-docs/stable/user_guide/indexing.html#returning-a-view-versus-a-copy\n",
      "  self.obj[item] = s\n",
      "C:\\Users\\a_pup\\anaconda3\\lib\\site-packages\\pandas\\core\\indexing.py:845: SettingWithCopyWarning: \n",
      "A value is trying to be set on a copy of a slice from a DataFrame.\n",
      "Try using .loc[row_indexer,col_indexer] = value instead\n",
      "\n",
      "See the caveats in the documentation: https://pandas.pydata.org/pandas-docs/stable/user_guide/indexing.html#returning-a-view-versus-a-copy\n",
      "  self.obj[key] = _infer_fill_value(value)\n"
     ]
    }
   ],
   "source": [
    "#Binning variables\n",
    "#**********************************\n",
    "df_proc.loc[df_proc['COLLISIONTYPE']=='Angles/Left Turn', 'COLLISIONTYPE_'] = 23\n",
    "df_proc.loc[df_proc['COLLISIONTYPE']=='Cycles/Pedestrian', 'COLLISIONTYPE_'] = 49\n",
    "df_proc.loc[df_proc['COLLISIONTYPE']=='Head On/Rear Ended', 'COLLISIONTYPE_'] = 25\n",
    "df_proc.loc[df_proc['COLLISIONTYPE']=='Other', 'COLLISIONTYPE_'] = 17\n",
    "df_proc.loc[df_proc['COLLISIONTYPE']=='Parked Car', 'COLLISIONTYPE_'] = 0\n",
    "df_proc.loc[df_proc['COLLISIONTYPE']=='Right Turn', 'COLLISIONTYPE_'] = 14\n",
    "df_proc.loc[df_proc['COLLISIONTYPE']=='Sideswipe', 'COLLISIONTYPE_'] = 9\n",
    "#**********************************\n",
    "df_proc.loc[df_proc['PERSONCOUNT']==2, 'PERSONCOUNT_'] = 0\n",
    "df_proc.loc[df_proc['PERSONCOUNT']==3, 'PERSONCOUNT_'] = 7\n",
    "df_proc.loc[df_proc['PERSONCOUNT']==6, 'PERSONCOUNT_'] = 12\n",
    "#**********************************\n",
    "df_proc.loc[df_proc['PEDCOUNT']==0, 'PEDCOUNT_'] = 0\n",
    "df_proc.loc[df_proc['PEDCOUNT']==1, 'PEDCOUNT_'] = 31\n",
    "#**********************************\n",
    "df_proc.loc[df_proc['PEDCYLCOUNT']==0, 'PEDCYLCOUNT_'] = 0\n",
    "df_proc.loc[df_proc['PEDCYLCOUNT']==1, 'PEDCYLCOUNT_'] = 29\n",
    "#**********************************\n",
    "df_proc.loc[df_proc['VEHCOUNT']==1, 'VEHCOUNT_'] = 13\n",
    "df_proc.loc[df_proc['VEHCOUNT']==2, 'VEHCOUNT_'] = 0\n",
    "df_proc.loc[df_proc['VEHCOUNT']==3, 'VEHCOUNT_'] = 8\n",
    "#**********************************\n",
    "df_proc.loc[df_proc['SDOT_COLCODE']==11, 'SDOT_COLCODE_'] = 22\n",
    "df_proc.loc[df_proc['SDOT_COLCODE']==14, 'SDOT_COLCODE_'] = 24\n",
    "df_proc.loc[df_proc['SDOT_COLCODE']==16, 'SDOT_COLCODE_'] = 5\n",
    "df_proc.loc[df_proc['SDOT_COLCODE']==24, 'SDOT_COLCODE_'] = 53\n",
    "df_proc.loc[df_proc['SDOT_COLCODE']==99, 'SDOT_COLCODE_'] = 33\n",
    "df_proc.loc[df_proc['SDOT_COLCODE']==1300, 'SDOT_COLCODE_'] = 0\n",
    "df_proc.loc[df_proc['SDOT_COLCODE']==2628, 'SDOT_COLCODE_'] = 20\n",
    "#**********************************\n",
    "df_proc.loc[df_proc['PEDROWNOTGRNT']=='N', 'PEDROWNOTGRNT_'] = 0\n",
    "df_proc.loc[df_proc['PEDROWNOTGRNT']=='Y', 'PEDROWNOTGRNT_'] = 31\n"
   ]
  },
  {
   "cell_type": "code",
   "execution_count": 177,
   "metadata": {},
   "outputs": [
    {
     "data": {
      "text/plain": [
       "PEDROWNOTGRNT_  SEVERITYCODE\n",
       "0.0             0               127755\n",
       "                1                52539\n",
       "31.0            0                  455\n",
       "                1                 4171\n",
       "dtype: int64"
      ]
     },
     "execution_count": 177,
     "metadata": {},
     "output_type": "execute_result"
    }
   ],
   "source": [
    "#df_proc.head()\n",
    "df_proc.groupby(['PEDROWNOTGRNT_', 'SEVERITYCODE']).size()"
   ]
  },
  {
   "cell_type": "code",
   "execution_count": 202,
   "metadata": {},
   "outputs": [],
   "source": [
    "# Independent variables:-\n",
    "features = ['COLLISIONTYPE_', 'PERSONCOUNT_', 'PEDCOUNT_', 'PEDCYLCOUNT_', 'VEHCOUNT_', 'SDOT_COLCODE_']\n",
    "X = df_proc[features]\n",
    "y = df_proc['SEVERITYCODE']"
   ]
  },
  {
   "cell_type": "code",
   "execution_count": 203,
   "metadata": {},
   "outputs": [],
   "source": [
    "# Randomly split the data into test and train datasets\n",
    "from sklearn.model_selection import train_test_split\n",
    "X_train,X_test,y_train,y_test=train_test_split(X,y,test_size=0.15,random_state=747)"
   ]
  },
  {
   "cell_type": "code",
   "execution_count": 204,
   "metadata": {},
   "outputs": [
    {
     "data": {
      "text/plain": [
       "LogisticRegression()"
      ]
     },
     "execution_count": 204,
     "metadata": {},
     "output_type": "execute_result"
    }
   ],
   "source": [
    "from sklearn.linear_model import LogisticRegression\n",
    "logreg = LogisticRegression()\n",
    "logreg.fit(X_train,y_train)"
   ]
  },
  {
   "cell_type": "code",
   "execution_count": 205,
   "metadata": {},
   "outputs": [],
   "source": [
    "y_pred=logreg.predict(X_test)"
   ]
  },
  {
   "cell_type": "code",
   "execution_count": 206,
   "metadata": {},
   "outputs": [
    {
     "data": {
      "text/plain": [
       "array([[17525,  1656],\n",
       "       [ 5331,  3226]], dtype=int64)"
      ]
     },
     "execution_count": 206,
     "metadata": {},
     "output_type": "execute_result"
    }
   ],
   "source": [
    "# import the metrics class\n",
    "from sklearn import metrics\n",
    "cnf_matrix = metrics.confusion_matrix(y_test, y_pred)\n",
    "cnf_matrix"
   ]
  },
  {
   "cell_type": "code",
   "execution_count": 207,
   "metadata": {},
   "outputs": [],
   "source": [
    "%matplotlib inline"
   ]
  },
  {
   "cell_type": "code",
   "execution_count": 208,
   "metadata": {},
   "outputs": [
    {
     "data": {
      "text/plain": [
       "Text(0.5, 257.44, 'Predicted label')"
      ]
     },
     "execution_count": 208,
     "metadata": {},
     "output_type": "execute_result"
    },
    {
     "data": {
      "image/png": "[encoded data removed]",
      "text/plain": [
       "<Figure size 432x288 with 2 Axes>"
      ]
     },
     "metadata": {
      "needs_background": "light"
     },
     "output_type": "display_data"
    }
   ],
   "source": [
    "class_names=[0,1] # name  of classes\n",
    "fig, ax = plt.subplots()\n",
    "tick_marks = np.arange(len(class_names))\n",
    "plt.xticks(tick_marks, class_names)\n",
    "plt.yticks(tick_marks, class_names)\n",
    "# create heatmap\n",
    "sns.heatmap(pd.DataFrame(cnf_matrix), annot=True, cmap=\"YlGnBu\" ,fmt='g')\n",
    "ax.xaxis.set_label_position(\"top\")\n",
    "plt.tight_layout()\n",
    "plt.title('Confusion matrix', y=1.1)\n",
    "plt.ylabel('Actual label')\n",
    "plt.xlabel('Predicted label')"
   ]
  },
  {
   "cell_type": "code",
   "execution_count": 209,
   "metadata": {},
   "outputs": [
    {
     "name": "stdout",
     "output_type": "stream",
     "text": [
      "Accuracy: 0.7481072896387627\n",
      "Precision: 0.6607947562474396\n",
      "Recall: 0.3770012854972537\n"
     ]
    }
   ],
   "source": [
    "print(\"Accuracy:\",metrics.accuracy_score(y_test, y_pred))\n",
    "print(\"Precision:\",metrics.precision_score(y_test, y_pred))\n",
    "print(\"Recall:\",metrics.recall_score(y_test, y_pred))"
   ]
  },
  {
   "cell_type": "code",
   "execution_count": 210,
   "metadata": {},
   "outputs": [
    {
     "data": {
      "image/png": "[encoded data removed]",
      "text/plain": [
       "<Figure size 432x288 with 1 Axes>"
      ]
     },
     "metadata": {
      "needs_background": "light"
     },
     "output_type": "display_data"
    }
   ],
   "source": [
    "y_pred_proba = logreg.predict_proba(X_test)[::,1]\n",
    "fpr, tpr, _ = metrics.roc_curve(y_test,  y_pred_proba)\n",
    "auc = metrics.roc_auc_score(y_test, y_pred_proba)\n",
    "plt.plot(fpr,tpr,label=\"data 1, auc=\"+str(auc))\n",
    "plt.legend(loc=4)\n",
    "plt.show()"
   ]
  },
  {
   "cell_type": "code",
   "execution_count": 211,
   "metadata": {},
   "outputs": [],
   "source": [
    "import statsmodels.api as sm\n",
    "from scipy import stats"
   ]
  },
  {
   "cell_type": "code",
   "execution_count": 214,
   "metadata": {},
   "outputs": [
    {
     "name": "stdout",
     "output_type": "stream",
     "text": [
      "Optimization terminated successfully.\n",
      "         Current function value: 0.489963\n",
      "         Iterations 7\n",
      "                           Logit Regression Results                           \n",
      "==============================================================================\n",
      "Dep. Variable:           SEVERITYCODE   No. Observations:               184920\n",
      "Model:                          Logit   Df Residuals:                   184913\n",
      "Method:                           MLE   Df Model:                            6\n",
      "Date:                Fri, 11 Sep 2020   Pseudo R-squ.:                  0.2051\n",
      "Time:                        06:29:13   Log-Likelihood:                -90604.\n",
      "converged:                       True   LL-Null:                   -1.1399e+05\n",
      "Covariance Type:            nonrobust   LLR p-value:                     0.000\n",
      "==================================================================================\n",
      "                     coef    std err          z      P>|z|      [0.025      0.975]\n",
      "----------------------------------------------------------------------------------\n",
      "const             -3.4351      0.030   -116.032      0.000      -3.493      -3.377\n",
      "COLLISIONTYPE_     0.0865      0.001    107.005      0.000       0.085       0.088\n",
      "PERSONCOUNT_       0.0907      0.002     58.796      0.000       0.088       0.094\n",
      "PEDCOUNT_         -0.0075      0.002     -3.971      0.000      -0.011      -0.004\n",
      "PEDCYLCOUNT_      -0.0047      0.002     -2.655      0.008      -0.008      -0.001\n",
      "VEHCOUNT_          0.0309      0.001     22.679      0.000       0.028       0.034\n",
      "SDOT_COLCODE_      0.0279      0.001     21.205      0.000       0.025       0.030\n",
      "==================================================================================\n"
     ]
    }
   ],
   "source": [
    "# Conclusion\n",
    "X2 = sm.add_constant(X)\n",
    "est = sm.Logit(y, X2)\n",
    "est2 = est.fit()\n",
    "print(est2.summary())"
   ]
  },
  {
   "cell_type": "markdown",
   "metadata": {},
   "source": [
    "### 5. Results\n",
    "\n",
    "There are three results for this model. They are:\n",
    "    1. Maximum likelihood and regression values table\n",
    "    2. Confusion Matrix\n",
    "    3. ROC curve\n",
    "    \n",
    "The Maximum Likelihood converged with function value: .49 The coefficients of all the variables employed are clearly displayed along with their std err and p-values. The Pseudo R-sqe also show the significance of the model.\n",
    "\n",
    "Confusion Matrix provides Accuracy, Precision and mis-classification of the model. With the accuracy of 74% and precision of 66%, this model can significantly classify the severity.\n",
    "\n",
    "The ROC curve shows the AUC at 78% which is significantly higher than 50%. "
   ]
  },
  {
   "cell_type": "markdown",
   "metadata": {},
   "source": [
    "### 6. Observations and Discussions\n",
    "\n",
    "#### 6.1 Variables\n",
    "\n",
    "This modeling exercise has opened up the world of road safety and its challenges to the world. It gave a window of opportunity into the Seattle PD data. There are some straight forward variables, but some intuitive variables happened to be very insignificant. Example: Under Influence is not a significant variable. Also, rush hour accidents are not injurious. \n",
    "\n",
    "There are too many variables with missing values, else, the model would perform even better.\n",
    "\n",
    "#### 6.2 Opportunities\n",
    "\n",
    "The data can be segmented to create multiple models. \n",
    "There is enough data to support that. Also, some of the verbiage from 2004 is little confusing. Example: Driverless in 2020 is an autonomous vehicle without a driver.  "
   ]
  },
  {
   "cell_type": "markdown",
   "metadata": {},
   "source": [
    "### 7. Conclusion\n",
    "\n",
    "The deployment of the model is a completely different ball game. The deployment team should be well versed with the nuances and the treatment of the data, else the results will be highly predictive. Also, the model should be calibrated from time to time, and production team should keep track of the incoming data, and the variations in the variables from time to time. With this, I conclude the project. \n",
    "\n",
    "Thanks for reading this report!"
   ]
  }
 ],
 "metadata": {
  "kernelspec": {
   "display_name": "Python 3",
   "language": "python",
   "name": "python3"
  },
  "language_info": {
   "codemirror_mode": {
    "name": "ipython",
    "version": 3
   },
   "file_extension": ".py",
   "mimetype": "text/x-python",
   "name": "python",
   "nbconvert_exporter": "python",
   "pygments_lexer": "ipython3",
   "version": "3.8.3"
  }
 },
 "nbformat": 4,
 "nbformat_minor": 4
}
