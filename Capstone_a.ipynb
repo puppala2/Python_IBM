{
 "cells": [
  {
   "cell_type": "markdown",
   "metadata": {},
   "source": [
    "# Seattle Car Accident Severity Prediction Model\n",
    "\n",
    "## Applied Data Science Capstone Project"
   ]
  },
  {
   "cell_type": "markdown",
   "metadata": {},
   "source": [
    "### ----------------------------------------------"
   ]
  },
  {
   "cell_type": "markdown",
   "metadata": {},
   "source": [
    "#### Data"
   ]
  },
  {
   "cell_type": "markdown",
   "metadata": {},
   "source": [
    "Seattle Department of Transportation (SDOT) compiles all collisions provided by the Seattle Police Department and recorded by traffic records. \n",
    "This compiled data is reported on their website as a csv file for the general public to consume. \n",
    "This data is refreshed every week with the latest records. The dataset include data from 2004. \n",
    "\n",
    "Even though SDOT reported data has all types of SEVERITY codes (0,1,2,2b,3), the sample dataset provided on the course website has only two codes, 1(property damage) and 2(injury) only. \n",
    "Variables like SERIOUSINJURIES and FATALITIES that are reported in the matadata file are not reported in the actual data. Some other observation:\n",
    "    1. EXCEPTRSNCODE is a mata data\n",
    "    2. SEVERITYCODE is a duplicate column\n",
    "    3. There are two collision codes, 1) State Code and 2) SDOT code. One is redundant\n",
    "    4. Descriptions attributes are redundant. Metadata has detailed information.\n",
    "    5. Location variable is redundant in light of X and Y.\n",
    "    6. OBJECTID, INCKEY, COLDETKEY, and REPORTNO are index columns and cannot be used as attributes.\n",
    "    \n",
    "The shape of the dataset: 194673, 38, whereas the first row is the column names.\n",
    "\n",
    "Severity Codes in the dataset: \n",
    "    1. 1-prop damage\n",
    "    2. 2-injury\n",
    "    \n",
    "Due to the presence of null values and the redundant variables as mentioned above, the data has to be prepropessed before going further."
   ]
  }
 ],
 "metadata": {
  "kernelspec": {
   "display_name": "Python 3",
   "language": "python",
   "name": "python3"
  },
  "language_info": {
   "codemirror_mode": {
    "name": "ipython",
    "version": 3
   },
   "file_extension": ".py",
   "mimetype": "text/x-python",
   "name": "python",
   "nbconvert_exporter": "python",
   "pygments_lexer": "ipython3",
   "version": "3.8.3"
  }
 },
 "nbformat": 4,
 "nbformat_minor": 4
}
